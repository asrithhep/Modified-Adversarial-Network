{
  "cells": [
    {
      "cell_type": "code",
      "execution_count": null,
      "metadata": {
        "id": "CQuO0sDJZS8w"
      },
      "outputs": [],
      "source": [
        "import tensorflow as tf\n",
        "from tensorflow import keras\n",
        "from keras import layers\n",
        "import pandas as pd\n",
        "import numpy as np\n",
        "import matplotlib.pyplot as plt\n",
        "\n",
        "from keras.layers import LeakyReLU\n",
        "from tensorflow.keras.optimizers import Adam\n",
        "from keras.models import Sequential\n",
        "from sklearn.preprocessing import MinMaxScaler\n",
        "from sklearn.pipeline import Pipeline\n",
        "from sklearn.preprocessing import OneHotEncoder,LabelBinarizer\n",
        "from sklearn.gaussian_process import GaussianProcessRegressor\n",
        "from sklearn.gaussian_process.kernels import RBF"
      ]
    },
    {
      "cell_type": "code",
      "execution_count": null,
      "metadata": {
        "colab": {
          "base_uri": "https://localhost:8080/"
        },
        "id": "Mf2ofsT8ZWsf",
        "outputId": "dc07cd36-df86-4eb8-ad6d-489c27848d8a"
      },
      "outputs": [
        {
          "output_type": "stream",
          "name": "stdout",
          "text": [
            "Mounted at /content/drive\n"
          ]
        }
      ],
      "source": [
        "from google.colab import drive\n",
        "drive.mount('/content/drive')"
      ]
    },
    {
      "cell_type": "code",
      "execution_count": null,
      "metadata": {
        "id": "KqP-WrPhZZHO"
      },
      "outputs": [],
      "source": [
        "num_pipeline = Pipeline([('MinMaxScaler',MinMaxScaler(feature_range=(-1,1))) ])\n",
        "label_pipeline = Pipeline([('MinMaxScaler',MinMaxScaler(feature_range=(-1,1))) ])\n",
        "enc = OneHotEncoder()\n",
        "\n",
        "#enc = LabelBinarizer()"
      ]
    },
    {
      "cell_type": "code",
      "execution_count": null,
      "metadata": {
        "id": "1hC2zHzzZov0"
      },
      "outputs": [],
      "source": [
        "def generate_real_sample(tau_p4):\n",
        "  n   = tau_p4.shape[0]\n",
        "  _px = tau_p4['gentau_vis_px'].to_numpy(dtype='float32').reshape(n,1)\n",
        "  _py = tau_p4['gentau_vis_py'].to_numpy(dtype='float32').reshape(n,1)\n",
        "  _pz = tau_p4['gentau_vis_pz'].to_numpy(dtype='float32').reshape(n,1)\n",
        "  _e  = tau_p4['gentau_vis_e'].to_numpy(dtype='float32').reshape(n,1)\n",
        "  _pt  = tau_p4['gentau_vis_pt'].to_numpy(dtype='float32').reshape(n,1)\n",
        "  _eta = tau_p4['gentau_vis_eta'].to_numpy(dtype='float32').reshape(n,1)\n",
        "  _phi = tau_p4['gentau_vis_phi'].to_numpy(dtype='float32').reshape(n,1)\n",
        "  _met_px = tau_p4['genmet_px'].to_numpy(dtype='float32').reshape(n,1)\n",
        "  _met_py = tau_p4['genmet_py'].to_numpy(dtype='float32').reshape(n,1)\n",
        "  _met_phi = tau_p4['genmet_phi'].to_numpy(dtype='float32').reshape(n,1)\n",
        "  _met = tau_p4['genmet'].to_numpy(dtype='float32').reshape(n,1)\n",
        "  _mT = tau_p4['gen_mT'].to_numpy(dtype='float32').reshape(n,1)\n",
        "  _class_id = tau_p4['class_id'].to_numpy(dtype='float32').reshape(n,1)/8000.0\n",
        "  _label_id = enc.fit_transform(_class_id)\n",
        "  X = np.hstack((_px,_py,_pz,_e,_met_px,_met_py,_mT))\n",
        "  M = tau_p4['boson_mass'].to_numpy(dtype='float32').reshape(n,1)\n",
        "  W = tau_p4['event_weight'].to_numpy(dtype='float32').reshape(n,1)\n",
        "\n",
        "  #print(_label_id.shape)\n",
        "  return X,M,_class_id"
      ]
    },
    {
      "cell_type": "code",
      "execution_count": null,
      "metadata": {
        "id": "OLFzyW9bZrEm"
      },
      "outputs": [],
      "source": [
        "InputDataset  = pd.read_csv('/content/drive/MyDrive/GAN_Regression/data_fine/train.csv',index_col=None )\n",
        "InputDataset .fillna(value=InputDataset .mean(),inplace=True)\n",
        "\n",
        "TestDataSet_3 = pd.read_csv('/content/drive/MyDrive/GAN_Regression/data_fine/test_back.csv',index_col=False)\n",
        "TestDataSet_4 = pd.read_csv('/content/drive/MyDrive/GAN_Regression/data_fine/test_3000.csv',index_col=False)\n",
        "TestDataSet_5 = pd.read_csv('/content/drive/MyDrive/GAN_Regression/data_fine/test_4000.csv',index_col=False)\n",
        "TestDataSet_6 = pd.read_csv('/content/drive/MyDrive/GAN_Regression/data_fine/test_5000.csv',index_col=False)\n",
        "TestDataSet_7 = pd.read_csv('/content/drive/MyDrive/GAN_Regression/data_fine/test_6000.csv',index_col=False)\n",
        "\n",
        "\n",
        "TestDataSet_3.fillna(value=TestDataSet_3.mean(),inplace=True)\n",
        "TestDataSet_4.fillna(value=TestDataSet_4.mean(),inplace=True)\n",
        "TestDataSet_5.fillna(value=TestDataSet_5.mean(),inplace=True)\n",
        "TestDataSet_6.fillna(value=TestDataSet_6.mean(),inplace=True)\n",
        "TestDataSet_7.fillna(value=TestDataSet_7.mean(),inplace=True)\n",
        "\n",
        "TestDataSets = [TestDataSet_3,TestDataSet_4,TestDataSet_5,TestDataSet_6,TestDataSet_7]\n"
      ]
    },
    {
      "cell_type": "code",
      "execution_count": null,
      "metadata": {
        "colab": {
          "base_uri": "https://localhost:8080/"
        },
        "id": "DVv-vYkSZtnk",
        "outputId": "64056809-3e7e-40e5-f985-bf705c35eef4"
      },
      "outputs": [
        {
          "output_type": "stream",
          "name": "stdout",
          "text": [
            "Train dataset shape:  (261001, 1)\n",
            "[0.46875]\n"
          ]
        }
      ],
      "source": [
        "train_feature,train_label,train_weight = generate_real_sample(InputDataset)\n",
        "xstar_param_samples = []\n",
        "xstar_samples =[]\n",
        "ystar_samples = []\n",
        "#idtrain_samples = []\n",
        "idstar_samples = []\n",
        "for TestDataSet in TestDataSets:\n",
        "  test_feature,test_label,test_weight = generate_real_sample(TestDataSet)\n",
        "  train_test_feature = np.concatenate((train_feature,test_feature),axis=0)\n",
        "  train_test_labels  = np.concatenate((train_label,test_label),axis=0)\n",
        "\n",
        "  train_test_dataset = num_pipeline.fit_transform(train_test_feature)\n",
        "\n",
        "  xtrain = train_test_dataset[:len(train_feature)]\n",
        "  ytrain = train_test_labels[:len(train_feature)]\n",
        "  #ytrain = train_test_class[:len(train_feature)]\n",
        "\n",
        "  ytrain_ = label_pipeline.fit_transform(ytrain)\n",
        "  #xtrain_param = np.concatenate((xtrain,train_weight),axis=1)\n",
        "\n",
        "  #xstar_param  = np.concatenate((train_test_dataset[len(train_feature):],test_weight),axis=1)\n",
        "  xstar = train_test_dataset[len(train_feature):]\n",
        "  #xstar_param_samples.append(xstar_param)\n",
        "  xstar_samples.append(xstar)\n",
        "  #ystar_samples.append(train_test_labels[len(train_feature):])\n",
        "  ystar_samples.append(train_test_labels[len(train_feature):])\n",
        "\n",
        "print('Train dataset shape: ',train_test_labels.shape)\n",
        "#train_weight\n",
        "print(train_weight[1])"
      ]
    },
    {
      "cell_type": "code",
      "execution_count": null,
      "metadata": {
        "id": "qefRuumXZw3g"
      },
      "outputs": [],
      "source": [
        "class mANregression(keras.Model):\n",
        "    def __init__(self,ninputs):\n",
        "        super(mANregression,self).__init__()\n",
        "        self.classifier = self.build_discriminator(ninputs)\n",
        "        self.regressor     = self.build_generator(ninputs)\n",
        "        #self.real_id = real_id\n",
        "\n",
        "    def build_classifier(self,ninput):\n",
        "        keras.layers.Conv2D(32, (3,3), padding='same', activation='relu',input_shape=(200, 200, 3))\n",
        "\n",
        "    def build_regressor(self,latent_dim):\n",
        "        in_label =  keras.layers.Input(shape=(1,))\n",
        "        n_nodes = 7 * 7\n",
        "        li = keras.layers.Dense(n_nodes)(in_label)\n",
        "        li = keras.layers.Reshape((7, 7, 1))(li)\n",
        "        # image generator input\n",
        "        in_lat =  keras.layers.Input(shape=(latent_dim,))\n",
        "        # foundation for 7x7 image\n",
        "        n_nodes = 128 * 7 * 7\n",
        "        gen = keras.layers.Dense(n_nodes)(in_lat)\n",
        "        gen = LeakyReLU(alpha=0.2)(gen)\n",
        "        gen = keras.layers.Reshape((7, 7, 128))(gen)\n",
        "        # merge image gen and label input\n",
        "        merge =  keras.layers.Concatenate()([gen, li])\n",
        "        # upsample to 14x14\n",
        "        gen = keras.layers.Conv2DTranspose(128, (4,4), strides=(2,2), padding='same')(merge)\n",
        "        gen = LeakyReLU(alpha=0.2)(gen)\n",
        "        # upsample to 28x28\n",
        "        gen = keras.layers.Conv2DTranspose(128, (4,4), strides=(2,2), padding='same')(gen)\n",
        "        gen = LeakyReLU(alpha=0.2)(gen)\n",
        "        # output\n",
        "        out_layer = keras.layers.Conv2D(1, (7,7), padding='same')(gen)\n",
        "        out_layer = keras.layers.Flatten()(out_layer)\n",
        "        out_layer = keras.layers.Dense(1, activation='linear')(out_layer)\n",
        "        # define model\n",
        "        model =  keras.models.Model([in_lat, in_label], out_layer)\n",
        "        return model\n",
        "\n",
        "    def build_discriminator(self,ninput):\n",
        "        dis_input = layers.Input((ninput,))\n",
        "        layer = layers.Dense(32,activation ='relu', kernel_initializer='he_uniform')(dis_input)\n",
        "        #layer = LeakyReLU(alpha=0.1)(layer)\n",
        "        layer  = keras.layers.BatchNormalization()(layer)\n",
        "        #layer = layers.Dense(200,activation ='relu', kernel_initializer='he_uniform')(layer)\n",
        "        #layer = LeakyReLU(alpha=0.1)(layer)\n",
        "        #layer  = keras.layers.BatchNormalization()(layer)\n",
        "        layer = layers.Dense(32,activation ='relu', kernel_initializer='he_uniform')(layer)\n",
        "        #layer = LeakyReLU(alpha=0.1)(layer)\n",
        "        layer  = keras.layers.BatchNormalization()(layer)\n",
        "        #layer = layers.Dense(5,activation ='relu', kernel_initializer='he_uniform')(layer)\n",
        "        out_layer = layers.Dense(1,activation='sigmoid')(layer)\n",
        "        model = tf.keras.Model(dis_input,out_layer)\n",
        "        return model\n",
        "\n",
        "    def build_generator(self,input_dim):\n",
        "        gen_input = layers.Input((input_dim,))\n",
        "        dis_ouput = layers.Input((1,))\n",
        "\n",
        "        merge_input = keras.layers.Concatenate()([gen_input,dis_ouput])\n",
        "        layer = layers.Dense(100,activation ='relu', kernel_initializer='he_uniform')(merge_input)\n",
        "        layer = LeakyReLU(alpha=0.1)(layer)\n",
        "        layer  = keras.layers.BatchNormalization()(layer)\n",
        "        #layer = layers.Dense(200,activation ='relu', kernel_initializer='he_uniform')(layer)\n",
        "        #layer = layers.Dense(200,activation ='relu', kernel_initializer='he_uniform')(layer)\n",
        "        layer = layers.Dense(16,activation ='relu', kernel_initializer='he_uniform')(layer)\n",
        "        out_layer = layers.Dense(1,activation='linear')(layer)\n",
        "        model = tf.keras.Model([gen_input,dis_ouput],out_layer)\n",
        "        return model\n",
        "\n",
        "    def build_generator_pm(self,input_dim):\n",
        "        gen_input = layers.Input((input_dim,))\n",
        "        #dis_ouput = layers.Input((1,))\n",
        "        #merge_input = keras.layers.Concatenate()([gen_input,dis_ouput])\n",
        "        layer = layers.Dense(32,activation ='relu', kernel_initializer='he_uniform')(gen_input)\n",
        "        #layer = layers.Dense(200,activation ='relu', kernel_initializer='he_uniform')(layer)\n",
        "        #layer = layers.Dense(200,activation ='relu', kernel_initializer='he_uniform')(layer)\n",
        "        layer = layers.Dense(16,activation ='relu', kernel_initializer='he_uniform')(layer)\n",
        "        out_layer = layers.Dense(1,activation='linear')(layer)\n",
        "        model = tf.keras.Model(gen_input,out_layer)\n",
        "        return model\n",
        "\n",
        "    def compile(self, d_optimizer, g_optimizer, loss_fn, gen_loss_fn):\n",
        "        super(mANregression, self).compile()\n",
        "        self.d_optimizer = d_optimizer\n",
        "        self.g_optimizer = g_optimizer\n",
        "        self.loss_fn = loss_fn\n",
        "        self.d_loss_metric = keras.metrics.Mean(name=\"d_loss\")\n",
        "        self.g_loss_metric = keras.metrics.Mean(name=\"g_loss\")\n",
        "        self.gen_loss_fn = gen_loss_fn\n",
        "\n",
        "    #def get_sample(x,y)\n",
        "\n",
        "    def train_step(self,data):\n",
        "      xtrains, ytrain = data\n",
        "      xtrain = xtrains[0]\n",
        "      real_id = xtrains[1]\n",
        "      batch_size = tf.shape(xtrain)[0]\n",
        "      #ix = tf.random.randint(0, xtrain.shape[0], batch_size)\n",
        "      #ix_tf = tf.random.uniform(shape=(batch_size,), minval=0, maxval=260000, dtype=tf.int32)\n",
        "      #print(xtrain)\n",
        "      #ix = ix_tf.numpy()\n",
        "      #print('ok1')\n",
        "      with tf.GradientTape() as tape:\n",
        "        cls_predictions = self.classifier(xtrain)\n",
        "        d_loss = self.loss_fn(real_id, cls_predictions)\n",
        "      grads = tape.gradient(d_loss, self.classifier.trainable_weights)\n",
        "      self.d_optimizer.apply_gradients(\n",
        "            zip(grads, self.classifier.trainable_weights)\n",
        "        )\n",
        "      fake_id = self.classifier(xtrain)\n",
        "      #print('ok2')\n",
        "      with tf.GradientTape() as tape:\n",
        "        #xinput = tf.concat([xtrain,fake_id],-1)\n",
        "        predictions = self.regressor([xtrain,fake_id])\n",
        "        #predictions = self.regressor(xinput)\n",
        "        g_loss = self.gen_loss_fn(ytrain, predictions)\n",
        "      grads = tape.gradient(g_loss,self.regressor.trainable_weights)\n",
        "      self.g_optimizer.apply_gradients(\n",
        "          zip(grads,self.regressor.trainable_weights)\n",
        "      )\n",
        "      #print('ok3')\n",
        "      self.d_loss_metric.update_state(d_loss)\n",
        "      #print('ok4')\n",
        "      self.g_loss_metric.update_state(g_loss)\n",
        "      #print('ok5')\n",
        "      return {\n",
        "            \"d_loss\": self.d_loss_metric.result(),\n",
        "            \"g_loss\": self.g_loss_metric.result(),\n",
        "\n",
        "        }\n",
        "\n",
        "\n"
      ]
    },
    {
      "cell_type": "code",
      "execution_count": null,
      "metadata": {
        "id": "VDLdjug_1DU6"
      },
      "outputs": [],
      "source": [
        "class mANMonitor(keras.callbacks.Callback):\n",
        "    def __init__(self,xtest,ytest,prefix,incriment):\n",
        "        self.incriment = incriment\n",
        "        self.prefix = prefix\n",
        "        self.xtest = xtest\n",
        "        self.ytest = ytest\n",
        "\n",
        "\n",
        "\n",
        "\n",
        "    def summarise_performance(self,real_boson_mass,fake_boson_mass):\n",
        "        fig,ax = plt.subplots()\n",
        "        (n1, bins1, patches1)=ax.hist(real_boson_mass,20,color='blue',label='real')\n",
        "        (n2, bins2, patches2)=ax.hist(fake_boson_mass,20,color='red',alpha=0.5,label='fake')\n",
        "        #ax.scatter(real_tau_p4[:,0],real_tau_p4[:,1],color='blue',label='real')\n",
        "        #ax.scatter(fake_tau_p4[:,0],fake_tau_p4[:,1],color='red',label='fake')\n",
        "\n",
        "        ax.legend()\n",
        "\n",
        "\n",
        "    def SaveModels(self,epoch):\n",
        "        discriminator = self.model.classifier\n",
        "        generator = self.model.regressor\n",
        "        #discriminator.trainable = True\n",
        "        tf.keras.models.save_model(generator,'/content/drive/MyDrive/GAN_Regression/mAN_generator_'+self.prefix+'_'+str(epoch))\n",
        "        tf.keras.models.save_model(discriminator,'/content/drive/MyDrive/GAN_Regression/mAN_discriminator_'+self.prefix+'_'+str(epoch))\n",
        "\n",
        "    def on_epoch_end(self, epoch, logs=None):\n",
        "        class_id = self.model.classifier(self.xtest)\n",
        "        xinput = np.concatenate((self.xtest,class_id),axis=1)\n",
        "        self.gen_mass  = self.model.regressor([self.xtest,class_id])\n",
        "        #self.gen_mass  = self.model.regressor(xinput)\n",
        "        if epoch % self.incriment == 0 and epoch != 0:\n",
        "          self.summarise_performance(self.ytest,self.gen_mass[:,0])\n",
        "          self.SaveModels(epoch)"
      ]
    },
    {
      "cell_type": "code",
      "execution_count": null,
      "metadata": {
        "id": "746lkQekquxc"
      },
      "outputs": [],
      "source": [
        "\n",
        "gan = mANregression(ninputs=7)\n",
        "gan.compile(\n",
        "    d_optimizer=tf.keras.optimizers.Adam(learning_rate=0.01),\n",
        "    g_optimizer=tf.keras.optimizers.Adam(learning_rate=0.01),\n",
        "    loss_fn=tf.keras.losses.BinaryCrossentropy(from_logits=True),\n",
        "    gen_loss_fn = keras.losses.MeanSquaredError(),\n",
        ")"
      ]
    },
    {
      "cell_type": "code",
      "execution_count": null,
      "metadata": {
        "colab": {
          "base_uri": "https://localhost:8080/",
          "height": 1000
        },
        "id": "vltEkZoDMrdV",
        "outputId": "07ed3d63-32cf-4197-cf55-f35426a9676f"
      },
      "outputs": [
        {
          "output_type": "stream",
          "name": "stdout",
          "text": [
            "Epoch 1/201\n"
          ]
        },
        {
          "output_type": "stream",
          "name": "stderr",
          "text": [
            "/usr/local/lib/python3.10/dist-packages/keras/backend.py:5703: UserWarning: \"`binary_crossentropy` received `from_logits=True`, but the `output` argument was produced by a Sigmoid activation and thus does not represent logits. Was this intended?\n",
            "  output, from_logits = _get_logits(\n"
          ]
        },
        {
          "output_type": "stream",
          "name": "stdout",
          "text": [
            "508/508 [==============================] - 8s 8ms/step - d_loss: 0.6358 - g_loss: 4194963.0000\n",
            "Epoch 2/201\n",
            "508/508 [==============================] - 3s 7ms/step - d_loss: 0.6337 - g_loss: 1820435.7500\n",
            "Epoch 3/201\n",
            "508/508 [==============================] - 3s 7ms/step - d_loss: 0.6330 - g_loss: 1800792.8750\n",
            "Epoch 4/201\n",
            "508/508 [==============================] - 4s 7ms/step - d_loss: 0.6319 - g_loss: 1782485.1250\n",
            "Epoch 5/201\n",
            "508/508 [==============================] - 4s 8ms/step - d_loss: 0.6314 - g_loss: 1774775.1250\n",
            "Epoch 6/201\n",
            "508/508 [==============================] - 3s 7ms/step - d_loss: 0.6312 - g_loss: 1771639.2500\n",
            "Epoch 7/201\n",
            "508/508 [==============================] - 3s 6ms/step - d_loss: 0.6309 - g_loss: 1767694.3750\n",
            "Epoch 8/201\n",
            "508/508 [==============================] - 4s 7ms/step - d_loss: 0.6309 - g_loss: 1765383.0000\n",
            "Epoch 9/201\n",
            "508/508 [==============================] - 4s 8ms/step - d_loss: 0.6308 - g_loss: 1764242.6250\n",
            "Epoch 10/201\n",
            "508/508 [==============================] - 3s 7ms/step - d_loss: 0.6308 - g_loss: 1764082.6250\n",
            "Epoch 11/201\n",
            "508/508 [==============================] - 3s 7ms/step - d_loss: 0.6307 - g_loss: 1761809.1250\n",
            "Epoch 12/201\n",
            "508/508 [==============================] - 4s 8ms/step - d_loss: 0.6307 - g_loss: 1762623.5000\n",
            "Epoch 13/201\n",
            "508/508 [==============================] - 4s 7ms/step - d_loss: 0.6307 - g_loss: 1762582.5000\n",
            "Epoch 14/201\n",
            "508/508 [==============================] - 3s 7ms/step - d_loss: 0.6307 - g_loss: 1762327.6250\n",
            "Epoch 15/201\n",
            "508/508 [==============================] - 3s 7ms/step - d_loss: 0.6306 - g_loss: 1761005.1250\n",
            "Epoch 16/201\n",
            "508/508 [==============================] - 4s 9ms/step - d_loss: 0.6306 - g_loss: 1759887.3750\n",
            "Epoch 17/201\n",
            "508/508 [==============================] - 3s 7ms/step - d_loss: 0.6306 - g_loss: 1760921.2500\n",
            "Epoch 18/201\n",
            "508/508 [==============================] - 3s 6ms/step - d_loss: 0.6306 - g_loss: 1760474.2500\n",
            "Epoch 19/201\n",
            "508/508 [==============================] - 3s 6ms/step - d_loss: 0.6306 - g_loss: 1760591.1250\n",
            "Epoch 20/201\n",
            "508/508 [==============================] - 4s 8ms/step - d_loss: 0.6305 - g_loss: 1759021.3750\n",
            "Epoch 21/201\n",
            "508/508 [==============================] - 4s 8ms/step - d_loss: 0.6305 - g_loss: 1758894.3750\n",
            "Epoch 22/201\n",
            "508/508 [==============================] - 4s 8ms/step - d_loss: 0.6305 - g_loss: 1758060.3750\n",
            "Epoch 23/201\n",
            "508/508 [==============================] - 4s 8ms/step - d_loss: 0.6305 - g_loss: 1758951.6250\n",
            "Epoch 24/201\n",
            "508/508 [==============================] - 4s 8ms/step - d_loss: 0.6305 - g_loss: 1758013.5000\n",
            "Epoch 25/201\n",
            "508/508 [==============================] - 3s 6ms/step - d_loss: 0.6306 - g_loss: 1759782.0000\n",
            "Epoch 26/201\n",
            "508/508 [==============================] - 3s 7ms/step - d_loss: 0.6304 - g_loss: 1757593.7500\n",
            "Epoch 27/201\n",
            "508/508 [==============================] - 4s 8ms/step - d_loss: 0.6304 - g_loss: 1756276.3750\n",
            "Epoch 28/201\n",
            "508/508 [==============================] - 4s 7ms/step - d_loss: 0.6305 - g_loss: 1757588.5000\n",
            "Epoch 29/201\n",
            "508/508 [==============================] - 3s 6ms/step - d_loss: 0.6304 - g_loss: 1757079.2500\n",
            "Epoch 30/201\n",
            "508/508 [==============================] - 3s 6ms/step - d_loss: 0.6303 - g_loss: 1756288.1250\n",
            "Epoch 31/201\n",
            "508/508 [==============================] - 4s 8ms/step - d_loss: 0.6304 - g_loss: 1755466.7500\n",
            "Epoch 32/201\n",
            "508/508 [==============================] - 3s 7ms/step - d_loss: 0.6305 - g_loss: 1757997.2500\n",
            "Epoch 33/201\n",
            "508/508 [==============================] - 4s 8ms/step - d_loss: 0.6304 - g_loss: 1757076.3750\n",
            "Epoch 34/201\n",
            "508/508 [==============================] - 4s 8ms/step - d_loss: 0.6303 - g_loss: 1755522.2500\n",
            "Epoch 35/201\n",
            "508/508 [==============================] - 4s 8ms/step - d_loss: 0.6303 - g_loss: 1755660.8750\n",
            "Epoch 36/201\n",
            "508/508 [==============================] - 3s 7ms/step - d_loss: 0.6302 - g_loss: 1754058.7500\n",
            "Epoch 37/201\n",
            "508/508 [==============================] - 3s 7ms/step - d_loss: 0.6303 - g_loss: 1756150.7500\n",
            "Epoch 38/201\n",
            "508/508 [==============================] - 4s 8ms/step - d_loss: 0.6303 - g_loss: 1755710.6250\n",
            "Epoch 39/201\n",
            "508/508 [==============================] - 4s 7ms/step - d_loss: 0.6302 - g_loss: 1754390.7500\n",
            "Epoch 40/201\n",
            "508/508 [==============================] - 3s 7ms/step - d_loss: 0.6303 - g_loss: 1755479.2500\n",
            "Epoch 41/201\n",
            "508/508 [==============================] - 3s 7ms/step - d_loss: 0.6303 - g_loss: 1755496.2500\n",
            "Epoch 42/201\n",
            "508/508 [==============================] - 4s 8ms/step - d_loss: 0.6303 - g_loss: 1754908.7500\n",
            "Epoch 43/201\n",
            "508/508 [==============================] - 3s 6ms/step - d_loss: 0.6302 - g_loss: 1753046.2500\n",
            "Epoch 44/201\n",
            "508/508 [==============================] - 3s 7ms/step - d_loss: 0.6302 - g_loss: 1753227.6250\n",
            "Epoch 45/201\n",
            "508/508 [==============================] - 3s 6ms/step - d_loss: 0.6302 - g_loss: 1753845.5000\n",
            "Epoch 46/201\n",
            "508/508 [==============================] - 4s 8ms/step - d_loss: 0.6302 - g_loss: 1754431.5000\n",
            "Epoch 47/201\n",
            "508/508 [==============================] - 3s 7ms/step - d_loss: 0.6302 - g_loss: 1753254.2500\n",
            "Epoch 48/201\n",
            "508/508 [==============================] - 3s 6ms/step - d_loss: 0.6302 - g_loss: 1753469.2500\n",
            "Epoch 49/201\n",
            "508/508 [==============================] - 4s 7ms/step - d_loss: 0.6302 - g_loss: 1754326.0000\n",
            "Epoch 50/201\n",
            "508/508 [==============================] - 4s 8ms/step - d_loss: 0.6302 - g_loss: 1752789.8750\n",
            "Epoch 51/201\n",
            "504/508 [============================>.] - ETA: 0s - d_loss: 0.6302 - g_loss: 1753323.6250"
          ]
        },
        {
          "output_type": "stream",
          "name": "stderr",
          "text": [
            "WARNING:tensorflow:Compiled the loaded model, but the compiled metrics have yet to be built. `model.compile_metrics` will be empty until you train or evaluate the model.\n",
            "WARNING:tensorflow:Compiled the loaded model, but the compiled metrics have yet to be built. `model.compile_metrics` will be empty until you train or evaluate the model.\n"
          ]
        },
        {
          "output_type": "stream",
          "name": "stdout",
          "text": [
            "\b\b\b\b\b\b\b\b\b\b\b\b\b\b\b\b\b\b\b\b\b\b\b\b\b\b\b\b\b\b\b\b\b\b\b\b\b\b\b\b\b\b\b\b\b\b\b\b\b\b\b\b\b\b\b\b\b\b\b\b\b\b\b\b\b\b\b\b\b\b\b\b\b\b\b\b\b\b\b\b\b\b\b\b\b\b\b\b\b\b\r508/508 [==============================] - 6s 11ms/step - d_loss: 0.6302 - g_loss: 1753194.0000\n",
            "Epoch 52/201\n",
            "508/508 [==============================] - 4s 7ms/step - d_loss: 0.6302 - g_loss: 1753292.5000\n",
            "Epoch 53/201\n",
            "508/508 [==============================] - 4s 8ms/step - d_loss: 0.6302 - g_loss: 1752627.0000\n",
            "Epoch 54/201\n",
            "508/508 [==============================] - 3s 7ms/step - d_loss: 0.6302 - g_loss: 1753911.0000\n",
            "Epoch 55/201\n",
            "508/508 [==============================] - 3s 6ms/step - d_loss: 0.6302 - g_loss: 1752916.0000\n",
            "Epoch 56/201\n",
            "508/508 [==============================] - 4s 7ms/step - d_loss: 0.6301 - g_loss: 1751934.3750\n",
            "Epoch 57/201\n",
            "508/508 [==============================] - 4s 8ms/step - d_loss: 0.6300 - g_loss: 1751358.3750\n",
            "Epoch 58/201\n",
            "508/508 [==============================] - 3s 7ms/step - d_loss: 0.6301 - g_loss: 1752738.3750\n",
            "Epoch 59/201\n",
            "508/508 [==============================] - 3s 6ms/step - d_loss: 0.6302 - g_loss: 1753477.5000\n",
            "Epoch 60/201\n",
            "508/508 [==============================] - 4s 7ms/step - d_loss: 0.6301 - g_loss: 1750880.3750\n",
            "Epoch 61/201\n",
            "508/508 [==============================] - 4s 7ms/step - d_loss: 0.6301 - g_loss: 1751955.5000\n",
            "Epoch 62/201\n",
            "508/508 [==============================] - 3s 6ms/step - d_loss: 0.6301 - g_loss: 1751907.6250\n",
            "Epoch 63/201\n",
            "508/508 [==============================] - 3s 7ms/step - d_loss: 0.6301 - g_loss: 1750916.1250\n",
            "Epoch 64/201\n",
            "508/508 [==============================] - 4s 8ms/step - d_loss: 0.6300 - g_loss: 1750771.1250\n",
            "Epoch 65/201\n",
            "508/508 [==============================] - 4s 7ms/step - d_loss: 0.6301 - g_loss: 1752256.8750\n",
            "Epoch 66/201\n",
            "508/508 [==============================] - 3s 7ms/step - d_loss: 0.6301 - g_loss: 1751275.8750\n",
            "Epoch 67/201\n",
            "508/508 [==============================] - 3s 6ms/step - d_loss: 0.6301 - g_loss: 1752090.1250\n",
            "Epoch 68/201\n",
            "508/508 [==============================] - 4s 8ms/step - d_loss: 0.6301 - g_loss: 1750947.8750\n",
            "Epoch 69/201\n",
            "508/508 [==============================] - 3s 6ms/step - d_loss: 0.6301 - g_loss: 1751407.5000\n",
            "Epoch 70/201\n",
            "508/508 [==============================] - 3s 7ms/step - d_loss: 0.6302 - g_loss: 1751566.8750\n",
            "Epoch 71/201\n",
            "508/508 [==============================] - 3s 7ms/step - d_loss: 0.6301 - g_loss: 1751329.0000\n",
            "Epoch 72/201\n",
            "508/508 [==============================] - 4s 8ms/step - d_loss: 0.6301 - g_loss: 1751221.0000\n",
            "Epoch 73/201\n",
            "508/508 [==============================] - 3s 6ms/step - d_loss: 0.6301 - g_loss: 1750699.6250\n",
            "Epoch 74/201\n",
            "508/508 [==============================] - 3s 7ms/step - d_loss: 0.6301 - g_loss: 1752266.0000\n",
            "Epoch 75/201\n",
            "508/508 [==============================] - 4s 7ms/step - d_loss: 0.6301 - g_loss: 1751441.1250\n",
            "Epoch 76/201\n",
            "508/508 [==============================] - 5s 9ms/step - d_loss: 0.6301 - g_loss: 1751960.5000\n",
            "Epoch 77/201\n",
            "508/508 [==============================] - 4s 8ms/step - d_loss: 0.6301 - g_loss: 1750107.0000\n",
            "Epoch 78/201\n",
            "508/508 [==============================] - 3s 6ms/step - d_loss: 0.6300 - g_loss: 1749744.8750\n",
            "Epoch 79/201\n",
            "508/508 [==============================] - 4s 8ms/step - d_loss: 0.6300 - g_loss: 1750237.0000\n",
            "Epoch 80/201\n",
            "508/508 [==============================] - 4s 7ms/step - d_loss: 0.6301 - g_loss: 1750749.2500\n",
            "Epoch 81/201\n",
            "508/508 [==============================] - 3s 6ms/step - d_loss: 0.6301 - g_loss: 1751775.6250\n",
            "Epoch 82/201\n",
            "508/508 [==============================] - 3s 6ms/step - d_loss: 0.6300 - g_loss: 1750233.0000\n",
            "Epoch 83/201\n",
            "508/508 [==============================] - 4s 8ms/step - d_loss: 0.6301 - g_loss: 1750118.0000\n",
            "Epoch 84/201\n",
            "508/508 [==============================] - 3s 6ms/step - d_loss: 0.6300 - g_loss: 1750294.7500\n",
            "Epoch 85/201\n",
            "508/508 [==============================] - 3s 7ms/step - d_loss: 0.6300 - g_loss: 1750333.3750\n",
            "Epoch 86/201\n",
            "508/508 [==============================] - 3s 7ms/step - d_loss: 0.6300 - g_loss: 1750058.5000\n",
            "Epoch 87/201\n",
            "508/508 [==============================] - 4s 8ms/step - d_loss: 0.6300 - g_loss: 1750176.1250\n",
            "Epoch 88/201\n",
            "508/508 [==============================] - 3s 6ms/step - d_loss: 0.6300 - g_loss: 1749811.8750\n",
            "Epoch 89/201\n",
            "508/508 [==============================] - 3s 7ms/step - d_loss: 0.6300 - g_loss: 1749677.6250\n",
            "Epoch 90/201\n",
            "508/508 [==============================] - 4s 7ms/step - d_loss: 0.6300 - g_loss: 1749616.6250\n",
            "Epoch 91/201\n",
            "508/508 [==============================] - 4s 8ms/step - d_loss: 0.6301 - g_loss: 1750490.6250\n",
            "Epoch 92/201\n",
            "508/508 [==============================] - 3s 6ms/step - d_loss: 0.6300 - g_loss: 1749020.7500\n",
            "Epoch 93/201\n",
            "508/508 [==============================] - 3s 6ms/step - d_loss: 0.6300 - g_loss: 1750316.8750\n",
            "Epoch 94/201\n",
            "508/508 [==============================] - 4s 7ms/step - d_loss: 0.6300 - g_loss: 1749874.5000\n",
            "Epoch 95/201\n",
            "508/508 [==============================] - 4s 8ms/step - d_loss: 0.6300 - g_loss: 1748836.1250\n",
            "Epoch 96/201\n",
            "508/508 [==============================] - 3s 7ms/step - d_loss: 0.6300 - g_loss: 1749970.0000\n",
            "Epoch 97/201\n",
            "508/508 [==============================] - 3s 7ms/step - d_loss: 0.6300 - g_loss: 1749727.5000\n",
            "Epoch 98/201\n",
            "508/508 [==============================] - 4s 8ms/step - d_loss: 0.6300 - g_loss: 1748552.7500\n",
            "Epoch 99/201\n",
            "508/508 [==============================] - 4s 7ms/step - d_loss: 0.6300 - g_loss: 1748865.3750\n",
            "Epoch 100/201\n",
            "508/508 [==============================] - 3s 7ms/step - d_loss: 0.6300 - g_loss: 1750033.6250\n",
            "Epoch 101/201\n",
            "507/508 [============================>.] - ETA: 0s - d_loss: 0.6299 - g_loss: 1748758.3750"
          ]
        },
        {
          "output_type": "stream",
          "name": "stderr",
          "text": [
            "WARNING:tensorflow:Compiled the loaded model, but the compiled metrics have yet to be built. `model.compile_metrics` will be empty until you train or evaluate the model.\n",
            "WARNING:tensorflow:Compiled the loaded model, but the compiled metrics have yet to be built. `model.compile_metrics` will be empty until you train or evaluate the model.\n"
          ]
        },
        {
          "output_type": "stream",
          "name": "stdout",
          "text": [
            "\b\b\b\b\b\b\b\b\b\b\b\b\b\b\b\b\b\b\b\b\b\b\b\b\b\b\b\b\b\b\b\b\b\b\b\b\b\b\b\b\b\b\b\b\b\b\b\b\b\b\b\b\b\b\b\b\b\b\b\b\b\b\b\b\b\b\b\b\b\b\b\b\b\b\b\b\b\b\b\b\b\b\b\b\b\b\b\b\b\b\r508/508 [==============================] - 7s 13ms/step - d_loss: 0.6299 - g_loss: 1749246.1250\n",
            "Epoch 102/201\n",
            "508/508 [==============================] - 4s 7ms/step - d_loss: 0.6300 - g_loss: 1749608.8750\n",
            "Epoch 103/201\n",
            "508/508 [==============================] - 3s 7ms/step - d_loss: 0.6300 - g_loss: 1749569.5000\n",
            "Epoch 104/201\n",
            "508/508 [==============================] - 3s 6ms/step - d_loss: 0.6300 - g_loss: 1749201.3750\n",
            "Epoch 105/201\n",
            "508/508 [==============================] - 4s 8ms/step - d_loss: 0.6300 - g_loss: 1749208.7500\n",
            "Epoch 106/201\n",
            "508/508 [==============================] - 3s 7ms/step - d_loss: 0.6299 - g_loss: 1748736.8750\n",
            "Epoch 107/201\n",
            "508/508 [==============================] - 3s 7ms/step - d_loss: 0.6300 - g_loss: 1748815.8750\n",
            "Epoch 108/201\n",
            "508/508 [==============================] - 3s 7ms/step - d_loss: 0.6300 - g_loss: 1749296.8750\n",
            "Epoch 109/201\n",
            "508/508 [==============================] - 4s 8ms/step - d_loss: 0.6300 - g_loss: 1749274.0000\n",
            "Epoch 110/201\n",
            "508/508 [==============================] - 3s 7ms/step - d_loss: 0.6300 - g_loss: 1748941.6250\n",
            "Epoch 111/201\n",
            "508/508 [==============================] - 3s 6ms/step - d_loss: 0.6300 - g_loss: 1749941.0000\n",
            "Epoch 112/201\n",
            "508/508 [==============================] - 4s 7ms/step - d_loss: 0.6300 - g_loss: 1748597.8750\n",
            "Epoch 113/201\n",
            "508/508 [==============================] - 4s 8ms/step - d_loss: 0.6300 - g_loss: 1748972.2500\n",
            "Epoch 114/201\n",
            "508/508 [==============================] - 3s 6ms/step - d_loss: 0.6300 - g_loss: 1748481.6250\n",
            "Epoch 115/201\n",
            "508/508 [==============================] - 3s 6ms/step - d_loss: 0.6300 - g_loss: 1749411.6250\n",
            "Epoch 116/201\n",
            "508/508 [==============================] - 4s 7ms/step - d_loss: 0.6299 - g_loss: 1748124.0000\n",
            "Epoch 117/201\n",
            "508/508 [==============================] - 4s 8ms/step - d_loss: 0.6300 - g_loss: 1748868.6250\n",
            "Epoch 118/201\n",
            "508/508 [==============================] - 3s 6ms/step - d_loss: 0.6300 - g_loss: 1749740.8750\n",
            "Epoch 119/201\n",
            "508/508 [==============================] - 4s 9ms/step - d_loss: 0.6300 - g_loss: 1748898.5000\n",
            "Epoch 120/201\n",
            "508/508 [==============================] - 4s 9ms/step - d_loss: 0.6299 - g_loss: 1749035.3750\n",
            "Epoch 121/201\n",
            "508/508 [==============================] - 3s 6ms/step - d_loss: 0.6300 - g_loss: 1748410.6250\n",
            "Epoch 122/201\n",
            "508/508 [==============================] - 3s 7ms/step - d_loss: 0.6300 - g_loss: 1748687.2500\n",
            "Epoch 123/201\n",
            "508/508 [==============================] - 3s 7ms/step - d_loss: 0.6300 - g_loss: 1748995.5000\n",
            "Epoch 124/201\n",
            "508/508 [==============================] - 4s 8ms/step - d_loss: 0.6299 - g_loss: 1748382.7500\n",
            "Epoch 125/201\n",
            "508/508 [==============================] - 3s 7ms/step - d_loss: 0.6299 - g_loss: 1748149.7500\n",
            "Epoch 126/201\n",
            "508/508 [==============================] - 3s 7ms/step - d_loss: 0.6299 - g_loss: 1748598.8750\n",
            "Epoch 127/201\n",
            "508/508 [==============================] - 4s 7ms/step - d_loss: 0.6300 - g_loss: 1748757.6250\n",
            "Epoch 128/201\n",
            "508/508 [==============================] - 4s 8ms/step - d_loss: 0.6299 - g_loss: 1748465.0000\n",
            "Epoch 129/201\n",
            "508/508 [==============================] - 3s 7ms/step - d_loss: 0.6300 - g_loss: 1749189.5000\n",
            "Epoch 130/201\n",
            "508/508 [==============================] - 3s 6ms/step - d_loss: 0.6299 - g_loss: 1747951.0000\n",
            "Epoch 131/201\n",
            "508/508 [==============================] - 4s 8ms/step - d_loss: 0.6299 - g_loss: 1748175.6250\n",
            "Epoch 132/201\n",
            "508/508 [==============================] - 4s 7ms/step - d_loss: 0.6301 - g_loss: 1749653.6250\n",
            "Epoch 133/201\n",
            "508/508 [==============================] - 3s 7ms/step - d_loss: 0.6299 - g_loss: 1747741.0000\n",
            "Epoch 134/201\n",
            "508/508 [==============================] - 3s 7ms/step - d_loss: 0.6299 - g_loss: 1748590.0000\n",
            "Epoch 135/201\n",
            "508/508 [==============================] - 4s 8ms/step - d_loss: 0.6299 - g_loss: 1748288.2500\n",
            "Epoch 136/201\n",
            "508/508 [==============================] - 4s 7ms/step - d_loss: 0.6299 - g_loss: 1747905.3750\n",
            "Epoch 137/201\n",
            "508/508 [==============================] - 3s 7ms/step - d_loss: 0.6299 - g_loss: 1748210.3750\n",
            "Epoch 138/201\n",
            "508/508 [==============================] - 3s 6ms/step - d_loss: 0.6300 - g_loss: 1749006.0000\n",
            "Epoch 139/201\n",
            "508/508 [==============================] - 4s 8ms/step - d_loss: 0.6299 - g_loss: 1747151.5000\n",
            "Epoch 140/201\n",
            "508/508 [==============================] - 3s 7ms/step - d_loss: 0.6299 - g_loss: 1748202.0000\n",
            "Epoch 141/201\n",
            "508/508 [==============================] - 3s 7ms/step - d_loss: 0.6300 - g_loss: 1748254.8750\n",
            "Epoch 142/201\n",
            "508/508 [==============================] - 3s 6ms/step - d_loss: 0.6299 - g_loss: 1747698.7500\n",
            "Epoch 143/201\n",
            "508/508 [==============================] - 4s 8ms/step - d_loss: 0.6299 - g_loss: 1748533.2500\n",
            "Epoch 144/201\n",
            "508/508 [==============================] - 3s 6ms/step - d_loss: 0.6299 - g_loss: 1747948.0000\n",
            "Epoch 145/201\n",
            "508/508 [==============================] - 3s 7ms/step - d_loss: 0.6299 - g_loss: 1748027.7500\n",
            "Epoch 146/201\n",
            "508/508 [==============================] - 4s 7ms/step - d_loss: 0.6299 - g_loss: 1747300.0000\n",
            "Epoch 147/201\n",
            "508/508 [==============================] - 4s 8ms/step - d_loss: 0.6299 - g_loss: 1747847.3750\n",
            "Epoch 148/201\n",
            "508/508 [==============================] - 3s 6ms/step - d_loss: 0.6299 - g_loss: 1747474.3750\n",
            "Epoch 149/201\n",
            "508/508 [==============================] - 3s 7ms/step - d_loss: 0.6299 - g_loss: 1747813.7500\n",
            "Epoch 150/201\n",
            "508/508 [==============================] - 4s 8ms/step - d_loss: 0.6300 - g_loss: 1748484.1250\n",
            "Epoch 151/201\n",
            "502/508 [============================>.] - ETA: 0s - d_loss: 0.6298 - g_loss: 1747653.5000"
          ]
        },
        {
          "output_type": "stream",
          "name": "stderr",
          "text": [
            "WARNING:tensorflow:Compiled the loaded model, but the compiled metrics have yet to be built. `model.compile_metrics` will be empty until you train or evaluate the model.\n",
            "WARNING:tensorflow:Compiled the loaded model, but the compiled metrics have yet to be built. `model.compile_metrics` will be empty until you train or evaluate the model.\n"
          ]
        },
        {
          "output_type": "stream",
          "name": "stdout",
          "text": [
            "\b\b\b\b\b\b\b\b\b\b\b\b\b\b\b\b\b\b\b\b\b\b\b\b\b\b\b\b\b\b\b\b\b\b\b\b\b\b\b\b\b\b\b\b\b\b\b\b\b\b\b\b\b\b\b\b\b\b\b\b\b\b\b\b\b\b\b\b\b\b\b\b\b\b\b\b\b\b\b\b\b\b\b\b\b\b\b\b\b\b\r508/508 [==============================] - 6s 12ms/step - d_loss: 0.6299 - g_loss: 1747331.7500\n",
            "Epoch 152/201\n",
            "508/508 [==============================] - 3s 6ms/step - d_loss: 0.6299 - g_loss: 1747711.5000\n",
            "Epoch 153/201\n",
            "508/508 [==============================] - 4s 7ms/step - d_loss: 0.6299 - g_loss: 1747014.8750\n",
            "Epoch 154/201\n",
            "508/508 [==============================] - 4s 8ms/step - d_loss: 0.6299 - g_loss: 1747748.1250\n",
            "Epoch 155/201\n",
            "508/508 [==============================] - 3s 6ms/step - d_loss: 0.6299 - g_loss: 1747472.5000\n",
            "Epoch 156/201\n",
            "508/508 [==============================] - 3s 7ms/step - d_loss: 0.6299 - g_loss: 1747151.8750\n",
            "Epoch 157/201\n",
            "508/508 [==============================] - 4s 8ms/step - d_loss: 0.6300 - g_loss: 1749070.3750\n",
            "Epoch 158/201\n",
            "508/508 [==============================] - 4s 8ms/step - d_loss: 0.6299 - g_loss: 1748230.5000\n",
            "Epoch 159/201\n",
            "508/508 [==============================] - 3s 7ms/step - d_loss: 0.6299 - g_loss: 1747810.3750\n",
            "Epoch 160/201\n",
            "508/508 [==============================] - 3s 6ms/step - d_loss: 0.6299 - g_loss: 1747908.6250\n",
            "Epoch 161/201\n",
            "508/508 [==============================] - 4s 8ms/step - d_loss: 0.6299 - g_loss: 1748205.8750\n",
            "Epoch 162/201\n",
            "508/508 [==============================] - 5s 10ms/step - d_loss: 0.6299 - g_loss: 1748872.8750\n",
            "Epoch 163/201\n",
            "508/508 [==============================] - 3s 6ms/step - d_loss: 0.6299 - g_loss: 1747903.0000\n",
            "Epoch 164/201\n",
            "508/508 [==============================] - 3s 7ms/step - d_loss: 0.6299 - g_loss: 1747669.2500\n",
            "Epoch 165/201\n",
            "508/508 [==============================] - 4s 8ms/step - d_loss: 0.6299 - g_loss: 1748360.3750\n",
            "Epoch 166/201\n",
            "508/508 [==============================] - 4s 7ms/step - d_loss: 0.6299 - g_loss: 1747838.1250\n",
            "Epoch 167/201\n",
            "508/508 [==============================] - 3s 6ms/step - d_loss: 0.6299 - g_loss: 1748276.8750\n",
            "Epoch 168/201\n",
            "508/508 [==============================] - 3s 7ms/step - d_loss: 0.6300 - g_loss: 1747890.7500\n",
            "Epoch 169/201\n",
            "508/508 [==============================] - 4s 8ms/step - d_loss: 0.6299 - g_loss: 1747376.5000\n",
            "Epoch 170/201\n",
            "508/508 [==============================] - 3s 7ms/step - d_loss: 0.6299 - g_loss: 1746574.3750\n",
            "Epoch 171/201\n",
            "508/508 [==============================] - 3s 7ms/step - d_loss: 0.6299 - g_loss: 1747155.5000\n",
            "Epoch 172/201\n",
            "508/508 [==============================] - 3s 7ms/step - d_loss: 0.6299 - g_loss: 1747075.0000\n",
            "Epoch 173/201\n",
            "508/508 [==============================] - 4s 8ms/step - d_loss: 0.6299 - g_loss: 1748461.8750\n",
            "Epoch 174/201\n",
            "508/508 [==============================] - 3s 7ms/step - d_loss: 0.6299 - g_loss: 1747319.7500\n",
            "Epoch 175/201\n",
            "508/508 [==============================] - 3s 7ms/step - d_loss: 0.6299 - g_loss: 1747561.5000\n",
            "Epoch 176/201\n",
            "508/508 [==============================] - 4s 7ms/step - d_loss: 0.6299 - g_loss: 1746451.7500\n",
            "Epoch 177/201\n",
            "508/508 [==============================] - 4s 8ms/step - d_loss: 0.6299 - g_loss: 1747177.0000\n",
            "Epoch 178/201\n",
            "508/508 [==============================] - 3s 7ms/step - d_loss: 0.6299 - g_loss: 1747751.5000\n",
            "Epoch 179/201\n",
            "508/508 [==============================] - 3s 7ms/step - d_loss: 0.6299 - g_loss: 1746924.0000\n",
            "Epoch 180/201\n",
            "508/508 [==============================] - 4s 8ms/step - d_loss: 0.6299 - g_loss: 1746593.2500\n",
            "Epoch 181/201\n",
            "508/508 [==============================] - 4s 8ms/step - d_loss: 0.6299 - g_loss: 1747135.0000\n",
            "Epoch 182/201\n",
            "508/508 [==============================] - 3s 7ms/step - d_loss: 0.6299 - g_loss: 1747639.8750\n",
            "Epoch 183/201\n",
            "508/508 [==============================] - 3s 7ms/step - d_loss: 0.6299 - g_loss: 1747339.8750\n",
            "Epoch 184/201\n",
            "508/508 [==============================] - 4s 8ms/step - d_loss: 0.6299 - g_loss: 1747142.3750\n",
            "Epoch 185/201\n",
            "508/508 [==============================] - 3s 7ms/step - d_loss: 0.6299 - g_loss: 1747026.3750\n",
            "Epoch 186/201\n",
            "508/508 [==============================] - 3s 7ms/step - d_loss: 0.6299 - g_loss: 1747197.1250\n",
            "Epoch 187/201\n",
            "508/508 [==============================] - 3s 6ms/step - d_loss: 0.6299 - g_loss: 1747912.2500\n",
            "Epoch 188/201\n",
            "508/508 [==============================] - 4s 8ms/step - d_loss: 0.6299 - g_loss: 1746667.2500\n",
            "Epoch 189/201\n",
            "508/508 [==============================] - 3s 7ms/step - d_loss: 0.6299 - g_loss: 1747053.1250\n",
            "Epoch 190/201\n",
            "508/508 [==============================] - 3s 6ms/step - d_loss: 0.6298 - g_loss: 1746093.2500\n",
            "Epoch 191/201\n",
            "508/508 [==============================] - 3s 7ms/step - d_loss: 0.6299 - g_loss: 1746948.1250\n",
            "Epoch 192/201\n",
            "508/508 [==============================] - 4s 8ms/step - d_loss: 0.6299 - g_loss: 1747496.6250\n",
            "Epoch 193/201\n",
            "508/508 [==============================] - 3s 6ms/step - d_loss: 0.6299 - g_loss: 1747064.1250\n",
            "Epoch 194/201\n",
            "508/508 [==============================] - 3s 7ms/step - d_loss: 0.6299 - g_loss: 1746948.2500\n",
            "Epoch 195/201\n",
            "508/508 [==============================] - 4s 7ms/step - d_loss: 0.6299 - g_loss: 1747173.0000\n",
            "Epoch 196/201\n",
            "508/508 [==============================] - 4s 8ms/step - d_loss: 0.6298 - g_loss: 1746750.7500\n",
            "Epoch 197/201\n",
            "508/508 [==============================] - 3s 7ms/step - d_loss: 0.6299 - g_loss: 1747462.6250\n",
            "Epoch 198/201\n",
            "508/508 [==============================] - 3s 6ms/step - d_loss: 0.6300 - g_loss: 1747785.8750\n",
            "Epoch 199/201\n",
            "508/508 [==============================] - 4s 7ms/step - d_loss: 0.6299 - g_loss: 1747462.8750\n",
            "Epoch 200/201\n",
            "508/508 [==============================] - 4s 8ms/step - d_loss: 0.6298 - g_loss: 1747292.8750\n",
            "Epoch 201/201\n",
            "504/508 [============================>.] - ETA: 0s - d_loss: 0.6299 - g_loss: 1748017.2500"
          ]
        },
        {
          "output_type": "stream",
          "name": "stderr",
          "text": [
            "WARNING:tensorflow:Compiled the loaded model, but the compiled metrics have yet to be built. `model.compile_metrics` will be empty until you train or evaluate the model.\n",
            "WARNING:tensorflow:Compiled the loaded model, but the compiled metrics have yet to be built. `model.compile_metrics` will be empty until you train or evaluate the model.\n"
          ]
        },
        {
          "output_type": "stream",
          "name": "stdout",
          "text": [
            "\b\b\b\b\b\b\b\b\b\b\b\b\b\b\b\b\b\b\b\b\b\b\b\b\b\b\b\b\b\b\b\b\b\b\b\b\b\b\b\b\b\b\b\b\b\b\b\b\b\b\b\b\b\b\b\b\b\b\b\b\b\b\b\b\b\b\b\b\b\b\b\b\b\b\b\b\b\b\b\b\b\b\b\b\b\b\b\b\b\b\r508/508 [==============================] - 6s 11ms/step - d_loss: 0.6299 - g_loss: 1747219.6250\n"
          ]
        },
        {
          "output_type": "execute_result",
          "data": {
            "text/plain": [
              "<keras.callbacks.History at 0x789c4c346290>"
            ]
          },
          "metadata": {},
          "execution_count": 44
        },
        {
          "output_type": "display_data",
          "data": {
            "text/plain": [
              "<Figure size 640x480 with 1 Axes>"
            ],
            "image/png": "[encoded data removed]"
          },
          "metadata": {}
        },
        {
          "output_type": "display_data",
          "data": {
            "text/plain": [
              "<Figure size 640x480 with 1 Axes>"
            ],
            "image/png": "[encoded data removed]"
          },
          "metadata": {}
        },
        {
          "output_type": "display_data",
          "data": {
            "text/plain": [
              "<Figure size 640x480 with 1 Axes>"
            ],
            "image/png": "[encoded data removed]"
          },
          "metadata": {}
        },
        {
          "output_type": "display_data",
          "data": {
            "text/plain": [
              "<Figure size 640x480 with 1 Axes>"
            ],
            "image/png": "[encoded data removed]"
          },
          "metadata": {}
        }
      ],
      "source": [
        "gan.fit([xtrain,train_weight],ytrain,callbacks=[mANMonitor(xstar_samples[2],ystar_samples[2],'TFdnn_new',50)],epochs=201,batch_size=512,verbose=True)"
      ]
    },
    {
      "cell_type": "code",
      "execution_count": null,
      "metadata": {
        "colab": {
          "base_uri": "https://localhost:8080/"
        },
        "id": "nSNiG7jkROR9",
        "outputId": "1dc61b28-295f-4ca0-f691-0ad004933a17"
      },
      "outputs": [
        {
          "output_type": "stream",
          "name": "stderr",
          "text": [
            "WARNING:tensorflow:No training configuration found in save file, so the model was *not* compiled. Compile it manually.\n",
            "WARNING:tensorflow:No training configuration found in save file, so the model was *not* compiled. Compile it manually.\n"
          ]
        }
      ],
      "source": [
        "load_reg = tf.keras.models.load_model('/content/drive/MyDrive/GAN_Regression/mAN_generator_TFdnn_new_200')\n",
        "load_cls = tf.keras.models.load_model('/content/drive/MyDrive/GAN_Regression/mAN_discriminator_TFdnn_new_200')\n",
        "load_dnn = tf.keras.models.load_model('/content/drive/MyDrive/GAN_Regression/h2_al1_lr4_1024_500.h5')"
      ]
    },
    {
      "cell_type": "code",
      "source": [
        "def load_mAN(reg,cls,xstar):\n",
        "  id = cls.predict(xstar)\n",
        "\n",
        "  Y_train, bin_edge = np.histogram(id,bins=20, density=True)\n",
        "  Y_train = np.insert(Y_train,0,0)\n",
        "\n",
        "  X_train = np.arange(0,0.8+0.8/20,0.8/20.0)\n",
        "\n",
        "  kernel = 1 * RBF(length_scale=1.0, length_scale_bounds=(1e-2, 1e2))\n",
        "  gaussian_process = GaussianProcessRegressor(kernel=kernel, n_restarts_optimizer=9)\n",
        "  gaussian_process.fit(X_train.reshape(-1,1),Y_train.reshape(-1,1))\n",
        "\n",
        "  X = np.linspace(0.1,0.8,100)\n",
        "  mean_prediction, std_prediction = gaussian_process.predict(X.reshape(-1,1), return_std=True)\n",
        "\n",
        "  id_max = 0\n",
        "  for i in range(0,len(X)):\n",
        "    mean = mean_prediction[i]\n",
        "    if mean == mean_prediction.max():\n",
        "      id_max = X[i]\n",
        "      break\n",
        "\n",
        "  print(id_max)\n",
        "  id_hist = np.random.normal(id_max,id.std(),xstar.shape[0])\n",
        "  #yp = reg.predict([xstar,id])\n",
        "  yp = reg.predict([xstar,id_hist.reshape(-1,1)])\n",
        "\n",
        "  return id,yp"
      ],
      "metadata": {
        "id": "rVZhO_Fu2C_d"
      },
      "execution_count": null,
      "outputs": []
    },
    {
      "cell_type": "code",
      "source": [
        "iter = 0\n",
        "fig,ax = plt.subplots()\n",
        "colors = ['red','blue','green','orange','magenta']\n",
        "mAN_labels = ['mAN M = 80 GeV','mAN M = 3 TeV','mAN M = 4 TeV','mAN M = 5 TeV','mAN M = 6 TeV']\n",
        "DNN_labels = ['DNN M = 80 GeV','DNN M = 3 TeV','DNN M = 4 TeV','DNN M = 5 TeV','DNN M = 6 TeV']\n",
        "for xtest in xstar_samples:\n",
        "  y_true = ystar_samples[iter]\n",
        "  if iter != 1:\n",
        "    y_dnn = label_pipeline.inverse_transform(load_dnn.predict(xtest))\n",
        "    label_id,y_pred = load_mAN(load_reg,load_cls,xtest)\n",
        "    #print(label_id)\n",
        "    #ax.hist(label_id,histtype='bar',color=colors[iter],density=True,bins=20,label=mAN_labels[iter],range=(0,0.8))\n",
        "    ax.hist(y_pred,histtype='step',color=colors[iter],density=False,bins=20,label=mAN_labels[iter],range=(0,7000))\n",
        "    #ax.hist(y_dnn,histtype='step',color=colors[iter],density=False,bins=20,label=DNN_labels[iter],range=(0,7000),ls='--')\n",
        "  iter += 1\n",
        "\n",
        "ax.set_ylim(0,500)\n",
        "#ax.set_xlim(0,500)\n",
        "ax.set_xlabel('invariant mass')\n",
        "ax.set_ylabel('Events [a.u]')\n",
        "ax.legend(ncol=2)\n",
        "\n",
        "plt.show()\n"
      ],
      "metadata": {
        "colab": {
          "base_uri": "https://localhost:8080/",
          "height": 727
        },
        "id": "vtUfss4galXS",
        "outputId": "a79834df-aff0-4ef0-c9ab-36c57c7bf66f"
      },
      "execution_count": null,
      "outputs": [
        {
          "output_type": "stream",
          "name": "stdout",
          "text": [
            "32/32 [==============================] - 0s 3ms/step\n",
            "32/32 [==============================] - 0s 1ms/step\n",
            "0.1\n",
            "32/32 [==============================] - 0s 2ms/step\n",
            "32/32 [==============================] - 0s 2ms/step\n",
            "32/32 [==============================] - 0s 1ms/step\n",
            "0.49595959595959593\n",
            "32/32 [==============================] - 0s 2ms/step\n",
            "32/32 [==============================] - 0s 2ms/step\n",
            "32/32 [==============================] - 0s 1ms/step\n",
            "0.602020202020202\n",
            "32/32 [==============================] - 0s 2ms/step\n",
            "32/32 [==============================] - 0s 2ms/step\n",
            "32/32 [==============================] - 0s 2ms/step\n",
            "0.6797979797979798\n",
            "32/32 [==============================] - 0s 2ms/step\n"
          ]
        },
        {
          "output_type": "display_data",
          "data": {
            "text/plain": [
              "<Figure size 640x480 with 1 Axes>"
            ],
            "image/png": "[encoded data removed]"
          },
          "metadata": {}
        }
      ]
    },
    {
      "cell_type": "code",
      "source": [
        "ar = np.array([0,1,2,3])"
      ],
      "metadata": {
        "id": "xHHQ6zMbVVza"
      },
      "execution_count": null,
      "outputs": []
    },
    {
      "cell_type": "code",
      "source": [
        "ar.max()"
      ],
      "metadata": {
        "colab": {
          "base_uri": "https://localhost:8080/"
        },
        "id": "Mey--aj27V7_",
        "outputId": "9d59c841-929e-4e65-82ac-793ba840398f"
      },
      "execution_count": null,
      "outputs": [
        {
          "output_type": "execute_result",
          "data": {
            "text/plain": [
              "3"
            ]
          },
          "metadata": {},
          "execution_count": 43
        }
      ]
    },
    {
      "cell_type": "code",
      "source": [
        "np.insert(ar,0,-1)"
      ],
      "metadata": {
        "colab": {
          "base_uri": "https://localhost:8080/"
        },
        "id": "uEanr5Ds7XDv",
        "outputId": "20332cdf-33dc-4a5f-9ff3-833131f894e2"
      },
      "execution_count": null,
      "outputs": [
        {
          "output_type": "execute_result",
          "data": {
            "text/plain": [
              "array([-1,  0,  1,  2,  3])"
            ]
          },
          "metadata": {},
          "execution_count": 23
        }
      ]
    },
    {
      "cell_type": "code",
      "source": [
        "for i in range(0,10):\n",
        "  print(i)"
      ],
      "metadata": {
        "colab": {
          "base_uri": "https://localhost:8080/"
        },
        "id": "oxTztq8M7aNF",
        "outputId": "815f7028-0c7a-410c-da60-cc348c65b488"
      },
      "execution_count": null,
      "outputs": [
        {
          "output_type": "stream",
          "name": "stdout",
          "text": [
            "0\n",
            "1\n",
            "2\n",
            "3\n",
            "4\n",
            "5\n",
            "6\n",
            "7\n",
            "8\n",
            "9\n"
          ]
        }
      ]
    },
    {
      "cell_type": "code",
      "source": [],
      "metadata": {
        "id": "NopzikoIBUSo"
      },
      "execution_count": null,
      "outputs": []
    }
  ],
  "metadata": {
    "accelerator": "GPU",
    "colab": {
      "provenance": [],
      "gpuType": "T4"
    },
    "kernelspec": {
      "display_name": "Python 3",
      "name": "python3"
    },
    "language_info": {
      "name": "python"
    }
  },
  "nbformat": 4,
  "nbformat_minor": 0
}